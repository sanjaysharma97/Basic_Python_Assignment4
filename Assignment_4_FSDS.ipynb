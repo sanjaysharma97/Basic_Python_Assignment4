{
 "cells": [
  {
   "cell_type": "markdown",
   "id": "a9d58fb9",
   "metadata": {},
   "source": [
    "# 1. What exactly is []?\n",
    "\n",
    "ANSWER- It is a square bracket which is used in python as a to define a \"list literals\".[] is a empty list.A mutable collection of values.\n",
    "\n",
    "\n",
    "# 2. In a list of values stored in a variable called spam, how would you assign the value 'hello' as the third value? (Assume [2, 4, 6, 8, 10] are in spam.)?\n",
    "\n",
    "ANSWER- \n"
   ]
  },
  {
   "cell_type": "code",
   "execution_count": 3,
   "id": "3eb7cb5d",
   "metadata": {},
   "outputs": [
    {
     "name": "stdout",
     "output_type": "stream",
     "text": [
      "[2, 4, 'hello', 8, 10]\n"
     ]
    }
   ],
   "source": [
    "spam=[2,4,6,8,10]\n",
    "spam[2]=\"hello\" # changing index value assign new value.\n",
    "print(spam)"
   ]
  },
  {
   "cell_type": "markdown",
   "id": "16ae2359",
   "metadata": {},
   "source": [
    "# Lets pretend the spam includes the list ['a',' b',' c','d'] for the next three queries. \n",
    "\n",
    "\n",
    "# 3. What is the value of spam[int(int('3' * 2) / 11)]?\n",
    "ANSWER- "
   ]
  },
  {
   "cell_type": "code",
   "execution_count": 4,
   "id": "aebe003b",
   "metadata": {},
   "outputs": [
    {
     "data": {
      "text/plain": [
       "'d'"
      ]
     },
     "execution_count": 4,
     "metadata": {},
     "output_type": "execute_result"
    }
   ],
   "source": [
    "spam=['a','b','c','d']\n",
    "spam[int(int('3' * 2) / 11)] #int('3' * 2) give 33"
   ]
  },
  {
   "cell_type": "markdown",
   "id": "3d107687",
   "metadata": {},
   "source": [
    "# 4. What is the value of spam[-1]?\n",
    "ANSWER-"
   ]
  },
  {
   "cell_type": "code",
   "execution_count": 23,
   "id": "d24c3e97",
   "metadata": {},
   "outputs": [
    {
     "data": {
      "text/plain": [
       "'d'"
      ]
     },
     "execution_count": 23,
     "metadata": {},
     "output_type": "execute_result"
    }
   ],
   "source": [
    "spam=['a','b','c','d']\n",
    "spam[-1] # it's a negative index starting from left end"
   ]
  },
  {
   "cell_type": "markdown",
   "id": "599180a7",
   "metadata": {},
   "source": [
    "# 5. What is the value of spam[:2]?\n",
    "ANSWER-"
   ]
  },
  {
   "cell_type": "code",
   "execution_count": 24,
   "id": "0573ba23",
   "metadata": {},
   "outputs": [
    {
     "data": {
      "text/plain": [
       "['a', 'b']"
      ]
     },
     "execution_count": 24,
     "metadata": {},
     "output_type": "execute_result"
    }
   ],
   "source": [
    "spam=['a','b','c','d']\n",
    "spam[:2] #slicing"
   ]
  },
  {
   "cell_type": "markdown",
   "id": "2f14b80b",
   "metadata": {},
   "source": [
    "# Lets pretend bacon has the list [3.14,'cat', 11,'cat',True] for the next three questions.\n"
   ]
  },
  {
   "cell_type": "markdown",
   "id": "855cd451",
   "metadata": {},
   "source": [
    "# 6. What is the value of bacon.index('cat')?\n",
    "ANSWER-"
   ]
  },
  {
   "cell_type": "code",
   "execution_count": 25,
   "id": "e712a83e",
   "metadata": {},
   "outputs": [
    {
     "data": {
      "text/plain": [
       "1"
      ]
     },
     "execution_count": 25,
     "metadata": {},
     "output_type": "execute_result"
    }
   ],
   "source": [
    "bacon=[3.14,'cat', 11,'cat',True]\n",
    "bacon.index('cat') #it returns index of first occurence."
   ]
  },
  {
   "cell_type": "markdown",
   "id": "78440597",
   "metadata": {},
   "source": [
    "# 7. How does bacon.append(99) change the look of the list value in bacon?\n",
    "ANSWER-"
   ]
  },
  {
   "cell_type": "code",
   "execution_count": 27,
   "id": "7371e11b",
   "metadata": {},
   "outputs": [
    {
     "name": "stdout",
     "output_type": "stream",
     "text": [
      "[3.14, 'cat', 11, 'cat', True, 99]\n"
     ]
    }
   ],
   "source": [
    "bacon=[3.14,'cat', 11,'cat',True]\n",
    "bacon.append(99)# it add given value at the last of the list.\n",
    "print(bacon)"
   ]
  },
  {
   "cell_type": "markdown",
   "id": "c264bb8a",
   "metadata": {},
   "source": [
    "# 8. How does bacon.remove('cat') change the look of the list in bacon?\n",
    "ANSWER-"
   ]
  },
  {
   "cell_type": "code",
   "execution_count": 29,
   "id": "f58e9ac2",
   "metadata": {},
   "outputs": [
    {
     "name": "stdout",
     "output_type": "stream",
     "text": [
      "[3.14, 11, 'cat', True]\n"
     ]
    }
   ],
   "source": [
    "bacon=[3.14,'cat', 11,'cat',True]\n",
    "bacon.remove('cat')# remove the value of first ocuurence of cat.\n",
    "print(bacon)"
   ]
  },
  {
   "cell_type": "markdown",
   "id": "e594b143",
   "metadata": {},
   "source": [
    "# 9. What are the list concatenation and list replication operators?\n",
    "\n",
    "ANSWER- (+) is the list concatenation operator.\n",
    "Example:- l1=[1,2,3,4]\n",
    "          l2=[5,6,7,8]\n",
    "          l1+l2\n",
    "          \n",
    "                O/P: [1,2,3,4,5,6,7,8]\n",
    "                \n",
    "       (*) is the list replication operator.\n",
    "Example:  l=[1,2,3,4,5,6]\n",
    "          l*2\n",
    "          \n",
    "              O/P: [1,2,3,4,5,6,1,2,3,4,5,6]"
   ]
  },
  {
   "cell_type": "markdown",
   "id": "c5a65f63",
   "metadata": {},
   "source": [
    "# 10. What is difference between the list methods append() and insert()?\n",
    "\n",
    "ANSWER- append() method is used to add items at the end of list.\n",
    "Example:- bacon=[3.14,'cat', 11,'cat',True]\n",
    "          bacon.append(99)# it add given value at the last of the list.\n",
    "              print(bacon)\n",
    "              \n",
    "           O/P:[3.14, 'cat', 11, 'cat', True, 99]\n",
    "insert() method is used to insert items at the given index.\n",
    "Example:-  s=[1,2,3,5,6,7]\n",
    "           s.insert(1,\"ineuron\")\n",
    "           print(s)\n",
    "            \n",
    "             O/P:[1,\"ineuron\",2,3,5,6,7]"
   ]
  },
  {
   "cell_type": "markdown",
   "id": "6c45b5b0",
   "metadata": {},
   "source": [
    "# 11. What are the two methods for removing items from a list?\n",
    "\n",
    "ANSWER- First one is remove() method.\n",
    "Example:-bacon=[3.14,'cat', 11,'cat',True]\n",
    "         bacon.remove('cat')# remove the value of first ocuurence of cat. \n",
    "         print(bacon)\n",
    "         \n",
    "            O/P: [3.14, 11, 'cat', True]\n",
    "            \n",
    "Second one is pop() method.\n",
    "Example:-s=[1,2,3,4,'hello']\n",
    "         s.pop()# it remove the item from the last of the index by default.\n",
    "         print(s)\n",
    "              \n",
    "                O/P:[1,2,3,4]\n",
    "                  "
   ]
  },
  {
   "cell_type": "markdown",
   "id": "dc14445f",
   "metadata": {},
   "source": [
    "# 12. Describe how list values and string values are identical.\n",
    "\n",
    "ANSWER- >Both can used in for loop.\n",
    "        >Both used indexs and slices.\n",
    "        >Both used in operator in or not in operator.\n",
    "        >Both can be concantenated or replicated.\n",
    "        so they are identical in many ways."
   ]
  },
  {
   "cell_type": "markdown",
   "id": "a98682f4",
   "metadata": {},
   "source": [
    "# 13. What's the difference between tuples and lists?\n",
    "\n",
    "ANSWER- Tuples are immutable ,they cannot be changed .Tuples are using by parenthesis().Example: s=(1,2,3,4)\n",
    "        Lists are mutable,they can be changed.Lists are using square brackets[].Example: s=[1,2,3,4]\n",
    "        "
   ]
  },
  {
   "cell_type": "markdown",
   "id": "b5743506",
   "metadata": {},
   "source": [
    "# 14. How do you type a tuple value that only contains the integer 42?\n",
    "\n",
    "ANSWER: tuple=(42,)\n",
    "        tuple\n",
    "            \n",
    "               O/P:(42,)\n",
    "               "
   ]
  },
  {
   "cell_type": "markdown",
   "id": "7964fc2a",
   "metadata": {},
   "source": [
    "# 15. How do you get a list values tuple form? How do you get a tuple values list form?\n",
    "\n",
    "ANSWER: i)    "
   ]
  },
  {
   "cell_type": "code",
   "execution_count": 37,
   "id": "ca1f6747",
   "metadata": {},
   "outputs": [
    {
     "data": {
      "text/plain": [
       "(1, 2, 3, 4, 5)"
      ]
     },
     "execution_count": 37,
     "metadata": {},
     "output_type": "execute_result"
    }
   ],
   "source": [
    "l=[1,2,3,4,5]\n",
    "tuple(l)"
   ]
  },
  {
   "cell_type": "markdown",
   "id": "3035c99d",
   "metadata": {},
   "source": [
    "ANSWER: ii)"
   ]
  },
  {
   "cell_type": "code",
   "execution_count": 38,
   "id": "89f687f8",
   "metadata": {},
   "outputs": [
    {
     "data": {
      "text/plain": [
       "[1, 2, 3, 4, 5]"
      ]
     },
     "execution_count": 38,
     "metadata": {},
     "output_type": "execute_result"
    }
   ],
   "source": [
    "t=(1,2,3,4,5)\n",
    "list(t)"
   ]
  },
  {
   "cell_type": "markdown",
   "id": "88cb16ad",
   "metadata": {},
   "source": [
    "# 16. Variables that \"contain\" list values are not necessarily lists themselves. Instead, what do they contain?\n",
    "\n",
    "ANSWER: They contain references to list values.\n"
   ]
  },
  {
   "cell_type": "markdown",
   "id": "b338c6cf",
   "metadata": {},
   "source": [
    "# 17. How do you distinguish between copy.copy() and copy.deepcopy()?\n",
    "\n",
    "ANSWER: copy.copy() creates shallow copy which means they don't create another temporary variable ,the change is reflected into the original values.\n",
    "\n",
    "copy.deepcopy() creates deep copy whic means they create another temporary object,which means the changed in copy of the object don't reflect in the original object.\n",
    "\n",
    "\n",
    "\n",
    "#########################################################################################################################"
   ]
  }
 ],
 "metadata": {
  "kernelspec": {
   "display_name": "Python 3 (ipykernel)",
   "language": "python",
   "name": "python3"
  },
  "language_info": {
   "codemirror_mode": {
    "name": "ipython",
    "version": 3
   },
   "file_extension": ".py",
   "mimetype": "text/x-python",
   "name": "python",
   "nbconvert_exporter": "python",
   "pygments_lexer": "ipython3",
   "version": "3.9.12"
  }
 },
 "nbformat": 4,
 "nbformat_minor": 5
}
